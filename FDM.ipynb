{
 "cells": [
  {
   "cell_type": "code",
   "execution_count": 1,
   "id": "7e986860-6fa1-4905-8308-855a2909412c",
   "metadata": {},
   "outputs": [
    {
     "data": {
      "text/plain": [
       "0     ASC\n",
       "1     AXR\n",
       "2    CHCI\n",
       "3     EGY\n",
       "4    GAMB\n",
       "5     IDR\n",
       "6    MDXG\n",
       "7    OPXS\n",
       "8    RDVT\n",
       "9    SRTS\n",
       "Name: Ticker, dtype: object"
      ]
     },
     "execution_count": 1,
     "metadata": {},
     "output_type": "execute_result"
    }
   ],
   "source": [
    "import pandas as pd\n",
    "\n",
    "# Load the CSV file\n",
    "file_path = 'pennies.csv'\n",
    "df = pd.read_csv(file_path)\n",
    "\n",
    "# Extract the ticker column (assuming it's in the second column)\n",
    "# Slice the 'Ticker' column\n",
    "tickers = df['Ticker']\n",
    "tickers"
   ]
  },
  {
   "cell_type": "code",
   "execution_count": 2,
   "id": "a695e6fb-f0a0-43bf-b01f-e1d66e38f670",
   "metadata": {},
   "outputs": [
    {
     "name": "stdout",
     "output_type": "stream",
     "text": [
      "0     ASC\n",
      "1     AXR\n",
      "2    CHCI\n",
      "3     EGY\n",
      "4    GAMB\n",
      "5     IDR\n",
      "6    MDXG\n",
      "7    OPXS\n",
      "8    RDVT\n",
      "9    SRTS\n",
      "Name: Ticker, dtype: object\n",
      "0     ASC\n",
      "1     AXR\n",
      "2    CHCI\n",
      "3     EGY\n",
      "4    GAMB\n",
      "5     IDR\n",
      "6    MDXG\n",
      "7    OPXS\n",
      "8    RDVT\n",
      "Name: Ticker, dtype: object\n"
     ]
    }
   ],
   "source": [
    "# Display the list of tickers\n",
    "print(tickers)\n",
    "\n",
    "\n",
    "# Drop the last row from the tickers\n",
    "tickers = tickers[:-1].reset_index(drop=True)\n",
    "\n",
    "# Display the extracted tickers\n",
    "print(tickers)"
   ]
  },
  {
   "cell_type": "code",
   "execution_count": 3,
   "id": "2a77a5aa-4d59-4914-84d9-9a6dc447a657",
   "metadata": {},
   "outputs": [],
   "source": [
    "tickers_list=tickers"
   ]
  },
  {
   "cell_type": "code",
   "execution_count": 4,
   "id": "0a137158-fb78-4755-9765-afa37c9e00bb",
   "metadata": {},
   "outputs": [
    {
     "name": "stdout",
     "output_type": "stream",
     "text": [
      "\"ASC\", \"AXR\", \"CHCI\", \"EGY\", \"GAMB\", \"IDR\", \"MDXG\", \"OPXS\", \"RDVT\"\n"
     ]
    }
   ],
   "source": [
    "# Convert the tickers to a comma-separated string with quotes\n",
    "tickers_list = '\", \"'.join(tickers)\n",
    "\n",
    "# Add the starting and ending quotes\n",
    "tickers_list = f'\"{tickers_list}\"'\n",
    "\n",
    "# Display the formatted tickers\n",
    "print(tickers_list)"
   ]
  },
  {
   "cell_type": "code",
   "execution_count": 5,
   "id": "b50f91fd-bbc1-42d9-91fe-71a1ecb6f4c2",
   "metadata": {},
   "outputs": [
    {
     "data": {
      "text/plain": [
       "'\"ASC\", \"AXR\", \"CHCI\", \"EGY\", \"GAMB\", \"IDR\", \"MDXG\", \"OPXS\", \"RDVT\"'"
      ]
     },
     "execution_count": 5,
     "metadata": {},
     "output_type": "execute_result"
    }
   ],
   "source": [
    "tickers_list"
   ]
  }
 ],
 "metadata": {
  "kernelspec": {
   "display_name": "Python 3 (ipykernel)",
   "language": "python",
   "name": "python3"
  },
  "language_info": {
   "codemirror_mode": {
    "name": "ipython",
    "version": 3
   },
   "file_extension": ".py",
   "mimetype": "text/x-python",
   "name": "python",
   "nbconvert_exporter": "python",
   "pygments_lexer": "ipython3",
   "version": "3.12.6"
  }
 },
 "nbformat": 4,
 "nbformat_minor": 5
}
