{
 "cells": [
  {
   "cell_type": "code",
   "execution_count": 1,
   "id": "e215c5da-e0a4-41b6-9ef9-fca3e89c1467",
   "metadata": {},
   "outputs": [],
   "source": [
    "from QuantLib import *\n",
    "import pandas as pd\n",
    "import numpy as np\n",
    "from py_vollib.black_scholes.greeks.analytical import delta, gamma, theta, vega, rho"
   ]
  },
  {
   "cell_type": "code",
   "execution_count": 2,
   "id": "49f0203e-70c3-41a0-a5a0-5a00ea0cf53d",
   "metadata": {},
   "outputs": [],
   "source": [
    "# Options parameters for each stock\n",
    "stocks = {\n",
    "    'AAPL': {'spot_price': 150, 'strike_price': 145, 'volatility': 0.25, 'dividend_rate': 0.005, 'risk_free_rate': 0.03, 'expiration_days': 30},\n",
    "    'TSLA': {'spot_price': 750, 'strike_price': 700, 'volatility': 0.60, 'dividend_rate': 0.00, 'risk_free_rate': 0.03, 'expiration_days': 30},\n",
    "    'MSFT': {'spot_price': 300, 'strike_price': 290, 'volatility': 0.20, 'dividend_rate': 0.01, 'risk_free_rate': 0.03, 'expiration_days': 30},\n",
    "}"
   ]
  },
  {
   "cell_type": "code",
   "execution_count": 3,
   "id": "6a0be09d-56e7-46a6-905b-2528ee2806dd",
   "metadata": {},
   "outputs": [
    {
     "data": {
      "text/html": [
       "<div>\n",
       "<style scoped>\n",
       "    .dataframe tbody tr th:only-of-type {\n",
       "        vertical-align: middle;\n",
       "    }\n",
       "\n",
       "    .dataframe tbody tr th {\n",
       "        vertical-align: top;\n",
       "    }\n",
       "\n",
       "    .dataframe thead th {\n",
       "        text-align: right;\n",
       "    }\n",
       "</style>\n",
       "<table border=\"1\" class=\"dataframe\">\n",
       "  <thead>\n",
       "    <tr style=\"text-align: right;\">\n",
       "      <th></th>\n",
       "      <th>Delta</th>\n",
       "      <th>Gamma</th>\n",
       "      <th>Theta</th>\n",
       "      <th>Vega</th>\n",
       "      <th>Rho</th>\n",
       "    </tr>\n",
       "  </thead>\n",
       "  <tbody>\n",
       "    <tr>\n",
       "      <th>AAPL</th>\n",
       "      <td>0.706519</td>\n",
       "      <td>0.032017</td>\n",
       "      <td>-0.069777</td>\n",
       "      <td>0.148024</td>\n",
       "      <td>0.081006</td>\n",
       "    </tr>\n",
       "    <tr>\n",
       "      <th>TSLA</th>\n",
       "      <td>0.691965</td>\n",
       "      <td>0.002727</td>\n",
       "      <td>-0.792568</td>\n",
       "      <td>0.756463</td>\n",
       "      <td>0.361044</td>\n",
       "    </tr>\n",
       "    <tr>\n",
       "      <th>MSFT</th>\n",
       "      <td>0.746312</td>\n",
       "      <td>0.018617</td>\n",
       "      <td>-0.109111</td>\n",
       "      <td>0.275432</td>\n",
       "      <td>0.173002</td>\n",
       "    </tr>\n",
       "  </tbody>\n",
       "</table>\n",
       "</div>"
      ],
      "text/plain": [
       "         Delta     Gamma     Theta      Vega       Rho\n",
       "AAPL  0.706519  0.032017 -0.069777  0.148024  0.081006\n",
       "TSLA  0.691965  0.002727 -0.792568  0.756463  0.361044\n",
       "MSFT  0.746312  0.018617 -0.109111  0.275432  0.173002"
      ]
     },
     "execution_count": 3,
     "metadata": {},
     "output_type": "execute_result"
    }
   ],
   "source": [
    "# Function to calculate Greeks\n",
    "def calculate_greeks(stock_params, option_type='c'):\n",
    "    spot = stock_params['spot_price']\n",
    "    strike = stock_params['strike_price']\n",
    "    T = stock_params['expiration_days'] / 365  # Time to expiration in years\n",
    "    r = stock_params['risk_free_rate']\n",
    "    sigma = stock_params['volatility']\n",
    "\n",
    "    greeks = {}\n",
    "    greeks['Delta'] = delta(option_type, spot, strike, T, r, sigma)\n",
    "    greeks['Gamma'] = gamma(option_type, spot, strike, T, r, sigma)\n",
    "    greeks['Theta'] = theta(option_type, spot, strike, T, r, sigma)\n",
    "    greeks['Vega'] = vega(option_type, spot, strike, T, r, sigma)\n",
    "    greeks['Rho'] = rho(option_type, spot, strike, T, r, sigma)\n",
    "    \n",
    "    return greeks\n",
    "\n",
    "# Calculate Greeks for each stock\n",
    "greeks_data = {stock: calculate_greeks(params) for stock, params in stocks.items()}\n",
    "\n",
    "# Display results\n",
    "df = pd.DataFrame(greeks_data).T\n",
    "df.columns = ['Delta', 'Gamma', 'Theta', 'Vega', 'Rho']\n",
    "df"
   ]
  }
 ],
 "metadata": {
  "kernelspec": {
   "display_name": "Python 3 (ipykernel)",
   "language": "python",
   "name": "python3"
  },
  "language_info": {
   "codemirror_mode": {
    "name": "ipython",
    "version": 3
   },
   "file_extension": ".py",
   "mimetype": "text/x-python",
   "name": "python",
   "nbconvert_exporter": "python",
   "pygments_lexer": "ipython3",
   "version": "3.12.6"
  }
 },
 "nbformat": 4,
 "nbformat_minor": 5
}
